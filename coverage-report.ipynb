{
 "cells": [
  {
   "cell_type": "code",
   "execution_count": null,
   "id": "bc8a9e1d",
   "metadata": {
    "scrolled": true
   },
   "outputs": [],
   "source": [
    "%matplotlib inline\n",
    "import glob\n",
    "from dataclasses import dataclass\n",
    "from typing import Dict, List\n",
    "\n",
    "import matplotlib.pyplot as plt\n",
    "import pandas as pd\n",
    "import seaborn as sns\n",
    "from IPython.display import display, HTML\n",
    "\n",
    "from lib import parametrization as par\n",
    "from lib import work_dir\n",
    "\n",
    "sns.set(font_scale=1.75)\n",
    "color_map = sns.light_palette(\"green\", as_cmap=True)\n",
    "\n",
    "\n",
    "@dataclass\n",
    "class ExperimentArguments:\n",
    "    language: str\n",
    "    transformation: str\n",
    "    fuzzing_strategy: str\n",
    "    subject: str\n",
    "\n",
    "\n",
    "class RunReportLoader:\n",
    "    def __init__(self, args: ExperimentArguments):\n",
    "        self._args = args\n",
    "\n",
    "    def _create_path_patterns(self):\n",
    "        shared_prefix = f\"{work_dir}/coverage-reports/{self._args.language}\"\n",
    "        shared_suffix = f\"{self._args.fuzzing_strategy}/{self._args.subject}\"\n",
    "        after_subdir = self._args.transformation\n",
    "        before_subdir = \"identity\"\n",
    "        after_pattern = f\"{shared_prefix}/{after_subdir}/{shared_suffix}/run*/coverage.csv\"\n",
    "        before_pattern = f\"{shared_prefix}/{before_subdir}/{shared_suffix}/run*/coverage.csv\"\n",
    "        return after_pattern, before_pattern\n",
    "\n",
    "    def _find_matching_paths(self):\n",
    "        after_pattern, before_pattern = self._create_path_patterns()\n",
    "        after_paths = glob.glob(after_pattern, recursive=True)\n",
    "        before_paths = glob.glob(before_pattern, recursive=True)\n",
    "        no_paths = not after_paths or not before_paths\n",
    "        if no_paths:\n",
    "            raise FileNotFoundError(f\"No matching coverage reports found for {self._args}.\")\n",
    "        all_paths_are_paired = len(after_paths) == len(before_paths)\n",
    "        if not all_paths_are_paired:\n",
    "            raise FileNotFoundError(f\"Missing some coverage reports for {self._args}.\")\n",
    "        return after_paths, before_paths\n",
    "\n",
    "    def _read_csv_and_check_nonempty(self, path):\n",
    "        csv = pd.read_csv(path, usecols=[\"filenum\", \"branch\"])\n",
    "        if csv.empty:\n",
    "            raise ValueError(f\"Empty coverage report read for {self._args}, path = {path}.\")\n",
    "        return csv\n",
    "\n",
    "    def load_coverage_reports(self):\n",
    "        after_paths, before_paths = self._find_matching_paths()\n",
    "        after_coverages = [self._read_csv_and_check_nonempty(path) for path in after_paths]\n",
    "        before_coverages = [self._read_csv_and_check_nonempty(path) for path in before_paths]\n",
    "        return after_coverages, before_coverages\n",
    "\n",
    "\n",
    "class CoveragePlotter:\n",
    "    def __init__(self, args: ExperimentArguments):\n",
    "        self._args = args\n",
    "        self._loader = RunReportLoader(self._args)\n",
    "\n",
    "    def _concat_coverage_reports(self):\n",
    "        after_coverages, before_coverages = self._loader.load_coverage_reports()\n",
    "        after_df = pd.concat(after_coverages)\n",
    "        before_df = pd.concat(before_coverages)\n",
    "        return after_df, before_df\n",
    "\n",
    "    def _make_comparison_df(self):\n",
    "        after_df, before_df = self._concat_coverage_reports()\n",
    "        after_df[\"transformation\"] = self._args.transformation\n",
    "        before_df[\"transformation\"] = \"identity\"\n",
    "        return pd.concat((after_df, before_df), sort=False, ignore_index=True)\n",
    "\n",
    "    def _make_title(self):\n",
    "        return f\"Language {self._args.language}, Subject {self._args.subject}, Strategy {self._args.fuzzing_strategy}\"\n",
    "\n",
    "    def _plot_mean_coverage_comparison(self, comparison_df):\n",
    "        plt.figure(figsize=(20, 8))\n",
    "        ax = sns.lineplot(data=comparison_df, x=\"filenum\", y=\"branch\", hue=\"transformation\", style=\"transformation\",\n",
    "                          dashes=False, ci=95)  # , units=\"run\", estimator=None)\n",
    "        title = self._make_title()\n",
    "        ax.set_title(title)\n",
    "        ax.set_xlabel(\"Number of Files\")\n",
    "        ax.set_ylabel(\"Mean Branch Coverage\")\n",
    "\n",
    "    def _plot_scatter_coverage_comparison(self, comparison_df):\n",
    "        plt.figure(figsize=(20, 8))\n",
    "        ax = sns.scatterplot(data=comparison_df, x=\"filenum\", y=\"branch\", hue=\"transformation\", style=\"transformation\",\n",
    "                             alpha=0.5)\n",
    "        title = self._make_title()\n",
    "        ax.set_title(title)\n",
    "        ax.set_xlabel(\"Number of Files\")\n",
    "        ax.set_ylabel(\"Branch Coverage\")\n",
    "\n",
    "    def plot_coverage_comparisons(self):\n",
    "        comparison_df = self._make_comparison_df()\n",
    "        self._plot_mean_coverage_comparison(comparison_df)\n",
    "        self._plot_scatter_coverage_comparison(comparison_df)\n",
    "\n",
    "\n",
    "class PlotterParametrizer:\n",
    "    def __init__(self):\n",
    "        self._per_transformation_args: Dict[str, List[ExperimentArguments]] = {}\n",
    "        self._assemble_args()\n",
    "\n",
    "    def _add_new_args_for_transformation(self, transformation, args):\n",
    "        if transformation in self._per_transformation_args:\n",
    "            self._per_transformation_args[transformation].append(args)\n",
    "        else:\n",
    "            self._per_transformation_args[transformation] = [args]\n",
    "\n",
    "    def _assemble_args(self):\n",
    "        for language in par.languages:\n",
    "            for transformation in par.transformations:\n",
    "                for fuzzing_strategy in par.fuzzing_strategies:\n",
    "                    for subject in par.subjects[language]:\n",
    "                        args = ExperimentArguments(language, transformation, fuzzing_strategy, subject)\n",
    "                        self._add_new_args_for_transformation(transformation, args)\n",
    "\n",
    "    def parametrize_plotters(self):\n",
    "        per_transformation_plotters = {\n",
    "            transformation: [CoveragePlotter(args) for args in transformation_args]\n",
    "            for transformation, transformation_args in self._per_transformation_args.items()\n",
    "        }\n",
    "        return per_transformation_plotters\n",
    "\n",
    "\n",
    "class PlotterExecutor:\n",
    "    def __init__(self, per_transformation_plotters: Dict[str, List[CoveragePlotter]]):\n",
    "        self._per_transformation_plotters = per_transformation_plotters\n",
    "\n",
    "    # TODO in production don't print the exception but rather \"N/A\" to indicate infeasible experiments\n",
    "    def execute_transformation_plotters(self, transformation: str):\n",
    "        for plotter in self._per_transformation_plotters[transformation]:\n",
    "            try:\n",
    "                plotter.plot_coverage_comparisons()\n",
    "            except Exception as e:\n",
    "                print(str(e))\n",
    "\n",
    "\n",
    "class StatisticsReportLoader:\n",
    "    def __init__(self, transformation: str, metric: str):\n",
    "        self._transformation = transformation\n",
    "        self._metric = metric\n",
    "\n",
    "    def _create_path_pattern(self):\n",
    "        transformation_subdir = f\"{work_dir}/results/*/{self._transformation}/*/*\"\n",
    "        metric_suffix = f\"{self._metric}/{self._metric}-diff-report.csv\"\n",
    "        return f\"{transformation_subdir}/{metric_suffix}\"\n",
    "\n",
    "    def _find_matching_paths(self):\n",
    "        pattern = self._create_path_pattern()\n",
    "        matching_paths = glob.glob(pattern, recursive=True)\n",
    "        no_paths = not matching_paths\n",
    "        if no_paths:\n",
    "            raise FileNotFoundError(\n",
    "                f\"No matching {self._metric} statistics reports found for {self._transformation}.\")\n",
    "        return matching_paths\n",
    "\n",
    "    def _read_csv_and_check_nonempty(self, path):\n",
    "        csv = pd.read_csv(path)\n",
    "        if csv.empty:\n",
    "            raise ValueError(\n",
    "                f\"Empty {self._metric} statistics report read for {self._transformation}, path = {path}.\")\n",
    "        formatted_csv = csv.drop([\"metric\", \"transformation\"], axis=1)\n",
    "        return formatted_csv\n",
    "\n",
    "    def load_statistics_reports(self):\n",
    "        report_paths = self._find_matching_paths()\n",
    "        return [self._read_csv_and_check_nonempty(path) for path in report_paths]\n",
    "\n",
    "\n",
    "class StatisticsReporter:\n",
    "    def __init__(self, transformation: str, metric: str):\n",
    "        self._loader = StatisticsReportLoader(transformation, metric)\n",
    "        self._metric = metric\n",
    "\n",
    "    def _concat_statistics_reports(self):\n",
    "        statistics_reports = self._loader.load_statistics_reports()\n",
    "        df = pd.concat(statistics_reports)\n",
    "        sorted_df = df.sort_values([\"language\", \"fuzzing strategy\", \"subject\"])\n",
    "        return sorted_df\n",
    "\n",
    "    def _format_df(self, df: pd.DataFrame):\n",
    "        return df.round(decimals=4)\n",
    "\n",
    "    # TODO in production don't print the exception but rather \"N/A\" to indicate infeasible experiments\n",
    "    def draw_metric_table(self):\n",
    "        try:\n",
    "            raw_df = self._concat_statistics_reports()\n",
    "            formatted_df = self._format_df(raw_df)\n",
    "            display(HTML(formatted_df.to_html(index=False)))\n",
    "        except Exception as e:\n",
    "            print(str(e))\n",
    "\n",
    "\n",
    "plotters = PlotterParametrizer().parametrize_plotters()\n",
    "executor = PlotterExecutor(plotters)"
   ]
  },
  {
   "cell_type": "markdown",
   "id": "5c23fb39",
   "metadata": {},
   "source": [
    "# Backus-Naur Form"
   ]
  },
  {
   "cell_type": "markdown",
   "id": "b3f2124f",
   "metadata": {},
   "source": [
    "## Statistics"
   ]
  },
  {
   "cell_type": "markdown",
   "id": "0018cdb3",
   "metadata": {},
   "source": [
    "### Coverage"
   ]
  },
  {
   "cell_type": "code",
   "execution_count": null,
   "id": "d550ae80",
   "metadata": {},
   "outputs": [],
   "source": [
    "coverage_reporter = StatisticsReporter(\"backus-naur-form\", \"coverage\")\n",
    "coverage_reporter.draw_metric_table()"
   ]
  },
  {
   "cell_type": "markdown",
   "id": "88262e2a",
   "metadata": {},
   "source": [
    "### Coverage Growth Rate"
   ]
  },
  {
   "cell_type": "code",
   "execution_count": null,
   "id": "ff8bfbfe",
   "metadata": {},
   "outputs": [],
   "source": [
    "growth_reporter = StatisticsReporter(\"backus-naur-form\", \"coverage-growth-rate\")\n",
    "growth_reporter.draw_metric_table()"
   ]
  },
  {
   "cell_type": "markdown",
   "id": "6b76e46b",
   "metadata": {},
   "source": [
    "## Plots"
   ]
  },
  {
   "cell_type": "code",
   "execution_count": null,
   "id": "45490b82",
   "metadata": {},
   "outputs": [],
   "source": [
    "executor.execute_transformation_plotters(\"backus-naur-form\")"
   ]
  },
  {
   "cell_type": "markdown",
   "id": "3470b03f",
   "metadata": {},
   "source": [
    "# Chomsky Normal Form"
   ]
  },
  {
   "cell_type": "markdown",
   "id": "b6805e8c",
   "metadata": {},
   "source": [
    "## Statistics"
   ]
  },
  {
   "cell_type": "markdown",
   "id": "c706628c",
   "metadata": {},
   "source": [
    "### Coverage"
   ]
  },
  {
   "cell_type": "code",
   "execution_count": null,
   "id": "cc7b71ae",
   "metadata": {},
   "outputs": [],
   "source": [
    "coverage_reporter = StatisticsReporter(\"chomsky-normal-form\", \"coverage\")\n",
    "coverage_reporter.draw_metric_table()"
   ]
  },
  {
   "cell_type": "markdown",
   "id": "c1f91eaa",
   "metadata": {},
   "source": [
    "### Coverage Growth Rate"
   ]
  },
  {
   "cell_type": "code",
   "execution_count": null,
   "id": "ea26e839",
   "metadata": {},
   "outputs": [],
   "source": [
    "growth_reporter = StatisticsReporter(\"chomsky-normal-form\", \"coverage-growth-rate\")\n",
    "growth_reporter.draw_metric_table()"
   ]
  },
  {
   "cell_type": "markdown",
   "id": "51f1a45c",
   "metadata": {},
   "source": [
    "## Plots"
   ]
  },
  {
   "cell_type": "code",
   "execution_count": null,
   "id": "bcf28b3a",
   "metadata": {},
   "outputs": [],
   "source": [
    "executor.execute_transformation_plotters(\"chomsky-normal-form\")"
   ]
  },
  {
   "cell_type": "markdown",
   "id": "14ff0f93",
   "metadata": {},
   "source": [
    "# Extended Chomsky Normal Form"
   ]
  },
  {
   "cell_type": "markdown",
   "id": "9ca2e3a6",
   "metadata": {},
   "source": [
    "## Statistics"
   ]
  },
  {
   "cell_type": "markdown",
   "id": "c740c66a",
   "metadata": {},
   "source": [
    "### Coverage"
   ]
  },
  {
   "cell_type": "code",
   "execution_count": null,
   "id": "3f8f6316",
   "metadata": {},
   "outputs": [],
   "source": [
    "coverage_reporter = StatisticsReporter(\"extended-chomsky-normal-form\", \"coverage\")\n",
    "coverage_reporter.draw_metric_table()"
   ]
  },
  {
   "cell_type": "markdown",
   "id": "e175785b",
   "metadata": {},
   "source": [
    "### Coverage Growth Rate"
   ]
  },
  {
   "cell_type": "code",
   "execution_count": null,
   "id": "299f430d",
   "metadata": {},
   "outputs": [],
   "source": [
    "growth_reporter = StatisticsReporter(\"extended-chomsky-normal-form\", \"coverage-growth-rate\")\n",
    "growth_reporter.draw_metric_table()"
   ]
  },
  {
   "cell_type": "markdown",
   "id": "9c5a39cb",
   "metadata": {},
   "source": [
    "## Plots"
   ]
  },
  {
   "cell_type": "code",
   "execution_count": null,
   "id": "ad77eb58",
   "metadata": {},
   "outputs": [],
   "source": [
    "executor.execute_transformation_plotters(\"extended-chomsky-normal-form\")"
   ]
  },
  {
   "cell_type": "markdown",
   "id": "cce56a00",
   "metadata": {},
   "source": [
    "# Greibach Normal Form"
   ]
  },
  {
   "cell_type": "markdown",
   "id": "d690f075",
   "metadata": {},
   "source": [
    "## Statistics"
   ]
  },
  {
   "cell_type": "markdown",
   "id": "8a3afc5f",
   "metadata": {},
   "source": [
    "### Coverage"
   ]
  },
  {
   "cell_type": "code",
   "execution_count": null,
   "id": "c3357b02",
   "metadata": {},
   "outputs": [],
   "source": [
    "coverage_reporter = StatisticsReporter(\"greibach-normal-form\", \"coverage\")\n",
    "coverage_reporter.draw_metric_table()"
   ]
  },
  {
   "cell_type": "markdown",
   "id": "4a32e882",
   "metadata": {},
   "source": [
    "### Coverage Growth Rate"
   ]
  },
  {
   "cell_type": "code",
   "execution_count": null,
   "id": "40212534",
   "metadata": {},
   "outputs": [],
   "source": [
    "growth_reporter = StatisticsReporter(\"greibach-normal-form\", \"coverage-growth-rate\")\n",
    "growth_reporter.draw_metric_table()"
   ]
  },
  {
   "cell_type": "markdown",
   "id": "447a6927",
   "metadata": {},
   "source": [
    "## Plots"
   ]
  },
  {
   "cell_type": "code",
   "execution_count": null,
   "id": "6072184f",
   "metadata": {},
   "outputs": [],
   "source": [
    "executor.execute_transformation_plotters(\"greibach-normal-form\")"
   ]
  },
  {
   "cell_type": "markdown",
   "id": "6043b395",
   "metadata": {},
   "source": [
    "# Extended Greibach Normal Form"
   ]
  },
  {
   "cell_type": "markdown",
   "id": "baa716ba",
   "metadata": {},
   "source": [
    "## Statistics"
   ]
  },
  {
   "cell_type": "markdown",
   "id": "2e92a015",
   "metadata": {},
   "source": [
    "### Coverage"
   ]
  },
  {
   "cell_type": "code",
   "execution_count": null,
   "id": "6d282c01",
   "metadata": {},
   "outputs": [],
   "source": [
    "coverage_reporter = StatisticsReporter(\"backus-naur-form\", \"coverage\")\n",
    "coverage_reporter.draw_metric_table()"
   ]
  },
  {
   "cell_type": "markdown",
   "id": "4b09c31d",
   "metadata": {},
   "source": [
    "### Coverage Growth Rate"
   ]
  },
  {
   "cell_type": "code",
   "execution_count": null,
   "id": "c074aec5",
   "metadata": {},
   "outputs": [],
   "source": [
    "growth_reporter = StatisticsReporter(\"backus-naur-form\", \"coverage-growth-rate\")\n",
    "growth_reporter.draw_metric_table()"
   ]
  },
  {
   "cell_type": "markdown",
   "id": "32854e31",
   "metadata": {},
   "source": [
    "## Plots"
   ]
  },
  {
   "cell_type": "code",
   "execution_count": null,
   "id": "c1fed48a",
   "metadata": {},
   "outputs": [],
   "source": [
    "executor.execute_transformation_plotters(\"backus-naur-form\")"
   ]
  },
  {
   "cell_type": "markdown",
   "id": "875fbd1c",
   "metadata": {},
   "source": [
    "# Rule Inlining"
   ]
  },
  {
   "cell_type": "markdown",
   "id": "8c198a55",
   "metadata": {},
   "source": [
    "## Statistics"
   ]
  },
  {
   "cell_type": "markdown",
   "id": "4c03dea7",
   "metadata": {},
   "source": [
    "### Coverage"
   ]
  },
  {
   "cell_type": "code",
   "execution_count": null,
   "id": "125a21c5",
   "metadata": {},
   "outputs": [],
   "source": [
    "coverage_reporter = StatisticsReporter(\"1-level-rule-inlining\", \"coverage\")\n",
    "coverage_reporter.draw_metric_table()"
   ]
  },
  {
   "cell_type": "markdown",
   "id": "689066c6",
   "metadata": {},
   "source": [
    "### Coverage Growth Rate"
   ]
  },
  {
   "cell_type": "code",
   "execution_count": null,
   "id": "c3362364",
   "metadata": {},
   "outputs": [],
   "source": [
    "growth_reporter = StatisticsReporter(\"1-level-rule-inlining\", \"coverage-growth-rate\")\n",
    "growth_reporter.draw_metric_table()"
   ]
  },
  {
   "cell_type": "markdown",
   "id": "84ece6fb",
   "metadata": {},
   "source": [
    "## Plots"
   ]
  },
  {
   "cell_type": "code",
   "execution_count": null,
   "id": "fe038f0a",
   "metadata": {},
   "outputs": [],
   "source": [
    "executor.execute_transformation_plotters(\"1-level-rule-inlining\")"
   ]
  }
 ],
 "metadata": {
  "kernelspec": {
   "display_name": "Python 3 (ipykernel)",
   "language": "python",
   "name": "python3"
  },
  "language_info": {
   "codemirror_mode": {
    "name": "ipython",
    "version": 3
   },
   "file_extension": ".py",
   "mimetype": "text/x-python",
   "name": "python",
   "nbconvert_exporter": "python",
   "pygments_lexer": "ipython3",
   "version": "3.8.7"
  }
 },
 "nbformat": 4,
 "nbformat_minor": 5
}
